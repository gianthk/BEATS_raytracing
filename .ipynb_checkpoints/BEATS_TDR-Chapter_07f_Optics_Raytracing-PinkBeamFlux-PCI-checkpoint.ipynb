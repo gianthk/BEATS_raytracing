{
 "cells": [
  {
   "cell_type": "markdown",
   "metadata": {},
   "source": [
    "# BEATS TDR Chapter 07f: Pink beam flux for Phase Contrast Imaging\n",
    "\n",
    "Comparison of the expected flux of BEATS for Phase-Contrast experiments using pink beam with the flux of SYRMEP@Elettra \n",
    "______________________________________________________\n",
    "\n",
    "Author:         Gianluca Iori (gianthk.iori@gmail.com)\n",
    "\n",
    "Created on:   18/05/2020\n",
    "\n",
    "Last update:  18/05/2020\n",
    "______________________________________________________\n"
   ]
  },
  {
   "cell_type": "code",
   "execution_count": 1,
   "metadata": {},
   "outputs": [],
   "source": [
    "import pandas as pd\n",
    "import numpy as np\n",
    "import matplotlib.pyplot as plt\n",
    "import scipy as sc\n",
    "from scipy import constants\n",
    "from pandas_ods_reader import read_ods\n",
    "from matplotlib.ticker import ScalarFormatter\n",
    "import h5py"
   ]
  },
  {
   "cell_type": "code",
   "execution_count": 2,
   "metadata": {},
   "outputs": [],
   "source": [
    "%matplotlib inline"
   ]
  },
  {
   "cell_type": "markdown",
   "metadata": {},
   "source": [
    "## Filtered white beam flux for Phase Contrast Imaging (PCI) from the Science Case\n",
    "\n",
    "Comparison with two studies from the science case done at Elettra with filtered white beam PCI.\n",
    "The BEATS 3PW flux file from a XOP simulation is available as .CSV ('BEATS_BL_Flux_1mrad.csv')"
   ]
  },
  {
   "cell_type": "code",
   "execution_count": 3,
   "metadata": {},
   "outputs": [],
   "source": [
    "# read CSV file with shadow results\n",
    "names = ['E', 'E0', 'E1', 'I', 'n']\n",
    "Flux1mrad_filecsv = 'Oasys/BEATS_BL_Flux_1mrad.csv'\n",
    "Flux1mrad = pd.read_csv(Flux1mrad_filecsv, sep=',', names=names, skiprows=[0, 1, 2, 3, 4, 5])"
   ]
  },
  {
   "cell_type": "code",
   "execution_count": 5,
   "metadata": {},
   "outputs": [],
   "source": [
    "# read 3PW flux from XOP\n",
    "fluxdata = pd.read_csv('Oasys/3PW_flux.csv', sep=',', names=['E', 'F'], skiprows=[0])\n",
    "F_source = np.array([fluxdata['F'][np.argmin(np.abs(Flux1mrad['E'][0]-fluxdata['E']))],\n",
    "                     fluxdata['F'][np.argmin(np.abs(Flux1mrad['E'][1]-fluxdata['E']))],\n",
    "                     fluxdata['F'][np.argmin(np.abs(Flux1mrad['E'][2]-fluxdata['E']))],\n",
    "                     fluxdata['F'][np.argmin(np.abs(Flux1mrad['E'][3]-fluxdata['E']))],\n",
    "                     fluxdata['F'][np.argmin(np.abs(Flux1mrad['E'][4]-fluxdata['E']))],\n",
    "                     fluxdata['F'][np.argmin(np.abs(Flux1mrad['E'][5]-fluxdata['E']))],\n",
    "                     fluxdata['F'][np.argmin(np.abs(Flux1mrad['E'][6]-fluxdata['E']))],\n",
    "                     fluxdata['F'][np.argmin(np.abs(Flux1mrad['E'][7]-fluxdata['E']))],\n",
    "                     fluxdata['F'][np.argmin(np.abs(Flux1mrad['E'][8]-fluxdata['E']))],\n",
    "                     fluxdata['F'][np.argmin(np.abs(Flux1mrad['E'][9]-fluxdata['E']))]])"
   ]
  },
  {
   "cell_type": "code",
   "execution_count": 6,
   "metadata": {},
   "outputs": [],
   "source": [
    "# Flux in 1mrad = Flux_XOP * (n. good rays / Tot. rays)\n",
    "Flux_1mrad = F_source*Flux1mrad['I']/Flux1mrad['n']"
   ]
  },
  {
   "cell_type": "markdown",
   "metadata": {},
   "source": [
    "#### Elettra Bending magnet Flux in 1mrad and 0.1%BW\n",
    "Eq. 5.8 in:\n",
    "Attwood, David. 1999. “Soft X-Rays and Extreme Ultraviolet Radiation: Principles and Applications.” Cambridge Core. Cambridge University Press. August 1999. https://doi.org/10.1017/CBO9781139164429."
   ]
  },
  {
   "cell_type": "code",
   "execution_count": 7,
   "metadata": {},
   "outputs": [],
   "source": [
    "# Load tabulated values for G1\n",
    "Tab5_2 = pd.read_csv('Table5.2.csv', sep=',', names=['y', 'G1', 'H2'], skiprows=[0])"
   ]
  },
  {
   "cell_type": "code",
   "execution_count": 8,
   "metadata": {},
   "outputs": [],
   "source": [
    "Elettra_E = 2.4 # [GeV]\n",
    "Elettra_I = 0.31 # [A]\n",
    "Elettra_T = 1.45 # [T]\n",
    "\n",
    "# Flux in 1mrad and 0.1%BW\n",
    "F_SYRMEP = 2.46e13*Elettra_E*Elettra_I*Tab5_2['G1']\n",
    "\n",
    "# Energy array\n",
    "En_SYRMEP = 1e3*(0.665*Elettra_E**2*Elettra_T)*Tab5_2['y']"
   ]
  },
  {
   "cell_type": "code",
   "execution_count": 9,
   "metadata": {},
   "outputs": [],
   "source": [
    "SESAME_E = 2.5 # [GeV]\n",
    "SESAME_I = 0.250 # [A]\n",
    "BEATS_T = 3.0 # [T]\n",
    "\n",
    "# Flux in 1mrad and 0.1%BW\n",
    "F_BEATS = 2.46e13*SESAME_E*SESAME_I*Tab5_2['G1']\n",
    "\n",
    "# Energy array\n",
    "En_BEATS = 1e3*(0.665*SESAME_E**2*BEATS_T)*Tab5_2['y']"
   ]
  },
  {
   "cell_type": "code",
   "execution_count": 10,
   "metadata": {},
   "outputs": [
    {
     "data": {
      "text/plain": [
       "Text(0, 0.5, 'Flux [Ph/s/mrad (0.1%BW)')"
      ]
     },
     "execution_count": 10,
     "metadata": {},
     "output_type": "execute_result"
    },
    {
     "data": {
      "image/png": "[encoded data removed]",
      "text/plain": [
       "<Figure size 432x288 with 1 Axes>"
      ]
     },
     "metadata": {
      "needs_background": "light"
     },
     "output_type": "display_data"
    }
   ],
   "source": [
    "# Flux in 1mrad plot\n",
    "f, ax = plt.subplots()\n",
    "\n",
    "plt.plot(En_SYRMEP, F_SYRMEP, 'r')\n",
    "plt.plot(Flux1mrad['E'], Flux_1mrad, 'C1', linewidth=3)\n",
    "plt.plot(En_BEATS, F_BEATS, '-.C1')\n",
    "plt.legend(['SYRMEP@Elettra', 'BEATS 3PW'], loc='lower left')\n",
    "\n",
    "plt.grid(True, which=\"both\")\n",
    "ax.set_xscale('log')\n",
    "ax.set_yscale('log')\n",
    "\n",
    "plt.xlabel('Photon energy [eV]')\n",
    "plt.ylabel('Flux [Ph/s/mrad (0.1%BW)')"
   ]
  },
  {
   "cell_type": "markdown",
   "metadata": {},
   "source": [
    "## Transmissivity data for some filters - XOP data\n",
    "\n",
    "Transmissivity files were calculated with the Power widget in XOP and for different filter settings:\n",
    "- Al [0.1, 0.2, 0.5, 1.0] [mm]\n",
    "- Cu [10, 20, 50] [um]\n",
    "- Fe [10, 50] [um]\n",
    "- Pd [75 um]\n",
    "- Graphite [5, 20] [mm]\n",
    "- Diamond [0.7 mm]\n",
    "- Air [1 m]"
   ]
  },
  {
   "cell_type": "code",
   "execution_count": 11,
   "metadata": {},
   "outputs": [],
   "source": [
    "filters=['E', '100umAl', '200umAl', '500umAl', '1mmAl', '10umCu', '20umCu', '50umCu', '10umFe', '50umFe', '75umPd', '5mmGraphite', '20mmGraphite', '700umCVD', '1mAir', '1.5mmSi', '25umMo']"
   ]
  },
  {
   "cell_type": "code",
   "execution_count": 12,
   "metadata": {},
   "outputs": [],
   "source": [
    "# read CSV trasnmissivity file\n",
    "transmissivity = pd.read_csv('Oasys/transmissivity_BEATS_filters.csv', sep=',', names=filters, skiprows=[0])"
   ]
  },
  {
   "cell_type": "code",
   "execution_count": 16,
   "metadata": {},
   "outputs": [],
   "source": [
    "# Sample transmissivity data @ the energies used for the plots above\n",
    "T_data_BEATS = np.zeros((Flux1mrad.shape[0],transmissivity.shape[1]),dtype=np.float)\n",
    "for i in range(0,Flux1mrad.shape[0]):\n",
    "    T_data_BEATS[i,:] = transmissivity.loc[np.argmin(np.abs(float(Flux1mrad['E'][i])-transmissivity['E']))]\n",
    "    \n",
    "T_data_BEATS2 = np.zeros((F_BEATS.shape[0],transmissivity.shape[1]),dtype=np.float)\n",
    "for i in range(0,F_BEATS.shape[0]):\n",
    "    T_data_BEATS2[i,:] = transmissivity.loc[np.argmin(np.abs(float(En_BEATS[i])-transmissivity['E']))]\n",
    "        \n",
    "T_data_SYRMEP = np.zeros((F_SYRMEP.shape[0],transmissivity.shape[1]),dtype=np.float)\n",
    "for i in range(0,F_SYRMEP.shape[0]):\n",
    "    T_data_SYRMEP[i,:] = transmissivity.loc[np.argmin(np.abs(float(En_SYRMEP[i])-transmissivity['E']))]"
   ]
  },
  {
   "cell_type": "markdown",
   "metadata": {},
   "source": [
    "### Plots of the FILTERED pink beam flux"
   ]
  },
  {
   "cell_type": "code",
   "execution_count": 18,
   "metadata": {},
   "outputs": [],
   "source": [
    "T_CVD = T_data_BEATS[:,13] # Transmissivity of 0.7 mm thick CVD diamond window"
   ]
  },
  {
   "cell_type": "markdown",
   "metadata": {},
   "source": [
    "#### 3D-cell distribution in tissues of a developing salamander limb\n",
    "Tesařová, Markéta, Lucia Mancini, Andras Simon, Igor Adameyko, Markéta Kaucká, Ahmed Elewa, Gabriele Lanzafame, et al. 2018. “A Quantitative Analysis of 3D-Cell Distribution in Regenerative Muscle-Skeletal System with Synchrotron X-Ray Computed Microtomography.” Scientific Reports 8 (1): 1–12. https://doi.org/10.1038/s41598-018-32459-2.\n",
    "\n",
    "#### Synchrotron X-ray μCT measurements:\n",
    "Phase-contrast synchrotron X-ray μCT measurements were\n",
    "performed at the SYRMEP beamline of the Italian synchrotron radiation facility Elettra with the white beam\n",
    "mode. The X-ray spectrum of the beam was filtered with 1.5 mm of silicon and 0.025 mm of molybdenum."
   ]
  },
  {
   "cell_type": "code",
   "execution_count": 22,
   "metadata": {},
   "outputs": [
    {
     "data": {
      "image/png": "[encoded data removed]",
      "text/plain": [
       "<Figure size 432x288 with 1 Axes>"
      ]
     },
     "metadata": {
      "needs_background": "light"
     },
     "output_type": "display_data"
    }
   ],
   "source": [
    "# SYRMEP pink beam for this study \n",
    "f, ax = plt.subplots()\n",
    "plt.plot(1e-3*T_data_SYRMEP[:,0], F_SYRMEP, 'r')\n",
    "# plt.plot(1e-3*T_data_SYRMEP[:,0], F_SYRMEP*T_data_SYRMEP[:,15], '--k')\n",
    "plt.plot(1e-3*T_data_SYRMEP[:,0], F_SYRMEP*T_data_SYRMEP[:,16]*T_data_SYRMEP[:,15], '.-k')\n",
    "\n",
    "# plt.plot(1e-3*T_data_BEATS[:,0], Flux_1mrad*T_data_BEATS[:,4]*T_data_BEATS[:,6]*T_data_BEATS[:,3], ':k')\n",
    "# plt.plot(1e-3*T_data_BEATS[:,0], Flux_1mrad, 'b')\n",
    "plt.plot(1e-3*T_data_BEATS[:,0], Flux_1mrad*T_data_BEATS[:,3]*T_data_BEATS[:,4]*T_data_BEATS[:,8], '.-C1')\n",
    "# plt.plot(1e-3*T_data_BEATS2[:,0], F_BEATS*T_data_BEATS2[:,3]*T_data_BEATS2[:,4]*T_data_BEATS2[:,8], ':C1')\n",
    "\n",
    "ax.set_xscale('log')\n",
    "ax.set_yscale('log')\n",
    "ax.set(xlim=(8, 61), ylim=(1e8, 2e13))\n",
    "plt.xticks(np.arange(5, 60, 5))\n",
    "ax.xaxis.set_major_formatter(ScalarFormatter())\n",
    "plt.xlabel('PhotonEnergy [keV]')\n",
    "plt.ylabel('Flux [Ph/s/mrad (0.1%BW)')\n",
    "plt.grid(True, which=\"both\")\n",
    "# 'SYRMEP - 1.5 $mm$ Si',\n",
    "plt.legend(['SYRMEP White beam', 'SYRMEP - 1.5 $mm$ Si + 25 $\\mu m$ Mo', 'BEATS - 1.5 $mm$ Al + 10 $\\mu m$ Fe'], loc='upper left', fontsize=\"small\")\n",
    "f.savefig(\"BEATS_PinkBeam_flux_PCI.png\", bbox_inches='tight', dpi=600)"
   ]
  },
  {
   "cell_type": "code",
   "execution_count": null,
   "metadata": {},
   "outputs": [],
   "source": []
  },
  {
   "cell_type": "code",
   "execution_count": null,
   "metadata": {},
   "outputs": [],
   "source": []
  }
 ],
 "metadata": {
  "kernelspec": {
   "display_name": "Python 3",
   "language": "python",
   "name": "python3"
  },
  "language_info": {
   "codemirror_mode": {
    "name": "ipython",
    "version": 3
   },
   "file_extension": ".py",
   "mimetype": "text/x-python",
   "name": "python",
   "nbconvert_exporter": "python",
   "pygments_lexer": "ipython3",
   "version": "3.7.4"
  }
 },
 "nbformat": 4,
 "nbformat_minor": 2
}
